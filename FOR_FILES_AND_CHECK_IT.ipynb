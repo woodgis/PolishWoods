{
 "cells": [
  {
   "cell_type": "code",
   "execution_count": 8,
   "metadata": {},
   "outputs": [],
   "source": [
    "import pandas as pd\n",
    "import geopandas"
   ]
  },
  {
   "cell_type": "code",
   "execution_count": 14,
   "metadata": {},
   "outputs": [],
   "source": [
    "# TODO dobra sciezka do plikow\n",
    "geo_files_list = ['']\n",
    "\n",
    "\n",
    "# read shp geofile\n",
    "def read_geofiles_shp(forest_district_list: list) -> pd.DataFrame:\n",
    "    \"\"\"\n",
    "    Read shp geo file for each forest district and create geo data frame\n",
    "    :param forest_district_list: list with disctrict names from folders\n",
    "    :return: geo data frame from shp file\n",
    "    \"\"\"\n",
    "    for forest_district in forest_district_list:\n",
    "        df_file = geopandas.read_file(f'../{forest_district}G_SUBAREA.shp') # add '/' to PATH\n",
    "    \n",
    "    return df_file\n",
    "\n",
    "\n",
    "    \n",
    "# check IDs in data frame\n",
    "def check_IDs_in_GeoSubare(df: pd.DataFrame, id_column = 'a_i_num') -> list:\n",
    "    \"\"\"\n",
    "    Check duplicated IDs in data frame\n",
    "    :param df: data frame\n",
    "    :param id_column: default = a_i_num, column name with IDs\n",
    "    :return: list with duplicates IDs or empty list\n",
    "    \"\"\"\n",
    "    if len(set(df_file[[ids_column]].value_counts().values)) > 1:\n",
    "        check_IDs = df_file[[ids_column]].value_counts()\n",
    "        check_IDs = check_IDs.reset_index()\n",
    "        duplicated_IDs = check_IDs[check_IDs[0] > 1][ids_column].to_list()\n",
    "\n",
    "        print(\"duplicated IDs, check: \", duplicated_IDs)\n",
    "        return duplicated_IDs\n",
    "    else:\n",
    "        duplicated_IDs=list()\n",
    "        print(\"lack of duplicated IDs\")\n",
    "        \n",
    "    return duplicated_IDs\n",
    "\n"
   ]
  },
  {
   "cell_type": "code",
   "execution_count": 15,
   "metadata": {},
   "outputs": [],
   "source": [
    "# check column names in data frames\n",
    "\n",
    "list_with_column_names = ['a_i_num', 'adr_for', 'area_type', 'site_type', 'silvicult',\n",
    "       'forest_fun', 'stand_stru', 'rotat_age', 'sub_area', 'prot_categ',\n",
    "       'species_cd', 'part_cd', 'spec_age', 'a_year', 'geometry']\n",
    "\n",
    "\n",
    "def check_column_names(df: pd_DataFrame, list_with_column_names = list_with_column_names):\n",
    "    \"\"\"\n",
    "    Check if columns name are the same for each data frame\n",
    "    :param df: data frame\n",
    "    :param list_with_column_names: list with data frame columns name\n",
    "    \"\"\"\n",
    "    columns_names = list(df.columns)\n",
    "    # check numbers of columns\n",
    "    if len(columns_names) != len(list_with_column_names):\n",
    "        print(f'numbers of data frame columns is {len(columns_names)} and numbers of column name patter is {len(list_with_column_names)}')\n",
    "    # compare names of columns with pattern\n",
    "    for column in columns_names:\n",
    "        if column not in list_with_column_names:\n",
    "            print(f'{column} not in default column names')\n",
    "            \n",
    "            \n"
   ]
  }
 ],
 "metadata": {
  "kernelspec": {
   "display_name": "Python 3",
   "language": "python",
   "name": "python3"
  },
  "language_info": {
   "codemirror_mode": {
    "name": "ipython",
    "version": 3
   },
   "file_extension": ".py",
   "mimetype": "text/x-python",
   "name": "python",
   "nbconvert_exporter": "python",
   "pygments_lexer": "ipython3",
   "version": "3.8.13"
  }
 },
 "nbformat": 4,
 "nbformat_minor": 4
}
